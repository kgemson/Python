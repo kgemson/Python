{
 "cells": [
  {
   "cell_type": "code",
   "execution_count": 19,
   "id": "724b9c92",
   "metadata": {},
   "outputs": [
    {
     "name": "stdout",
     "output_type": "stream",
     "text": [
      "101.011\n"
     ]
    }
   ],
   "source": [
    "state = 1\n",
    "num = \"5.4375\"\n",
    "whole,frac = num.split('.')\n",
    "\n",
    "if state ==0 :\n",
    "    #convert binary to decimal\n",
    "    whole = int(whole,2)\n",
    "    print(whole)\n",
    "    \n",
    "    floating = 0\n",
    "    for idx,digit in enumerate(frac):\n",
    "        # floating points calculated by multiplying each digit by 2 to the power of (digit position * -1) \n",
    "        # (index starts at zero so need to add 1)\n",
    "        floating += int(digit)*2**(-(idx+1))\n",
    "    print(whole + floating)\n",
    "else:\n",
    "    #convert decimal to binary\n",
    "    decimal_places = 10 # need to set max decimal places so we don't get infinite values, e.g. 1/3\n",
    "    whole = bin(int(whole))[2:]\n",
    "    \n",
    "    frac = float(\"0.\"+frac)\n",
    "    floating = []\n",
    "    \n",
    "    # floating points calculated by multiplying fraction by 2 repeatedly - if result < 1, we store '0'.\n",
    "    # if result > 1, we store '1' and reduce result by 1\n",
    "    # we repeat this until doubling gives us zero\n",
    "    for i in range(decimal_places):\n",
    "        if frac*2 < 1.0:\n",
    "            floating.append('0')\n",
    "            frac*=2\n",
    "        elif frac*2 > 1.0:\n",
    "            floating.append('1')\n",
    "            frac = (frac*2) - 1\n",
    "        elif frac*2 == 0:\n",
    "            floating.append('1')\n",
    "            break\n",
    "    \n",
    "    print(whole+\".\"+\"\".join(floating))"
   ]
  },
  {
   "cell_type": "code",
   "execution_count": null,
   "id": "7fa93f67",
   "metadata": {},
   "outputs": [],
   "source": []
  }
 ],
 "metadata": {
  "kernelspec": {
   "display_name": "Python 3 (ipykernel)",
   "language": "python",
   "name": "python3"
  },
  "language_info": {
   "codemirror_mode": {
    "name": "ipython",
    "version": 3
   },
   "file_extension": ".py",
   "mimetype": "text/x-python",
   "name": "python",
   "nbconvert_exporter": "python",
   "pygments_lexer": "ipython3",
   "version": "3.9.7"
  }
 },
 "nbformat": 4,
 "nbformat_minor": 5
}
